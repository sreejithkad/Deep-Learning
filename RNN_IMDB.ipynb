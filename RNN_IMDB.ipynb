{
  "nbformat": 4,
  "nbformat_minor": 0,
  "metadata": {
    "colab": {
      "name": "RNN_IMDB.ipynb",
      "provenance": [],
      "collapsed_sections": []
    },
    "kernelspec": {
      "name": "python3",
      "display_name": "Python 3"
    },
    "language_info": {
      "name": "python"
    }
  },
  "cells": [
    {
      "cell_type": "code",
      "metadata": {
        "id": "t8J1TKyUxqqB"
      },
      "source": [
        "import numpy as np\n",
        "\n",
        "import tensorflow as tf"
      ],
      "execution_count": 1,
      "outputs": []
    },
    {
      "cell_type": "code",
      "metadata": {
        "id": "A-RpWQsuyPay"
      },
      "source": [
        "from tensorflow.keras.datasets import imdb"
      ],
      "execution_count": 2,
      "outputs": []
    },
    {
      "cell_type": "markdown",
      "metadata": {
        "id": "B2smlpqVycBa"
      },
      "source": [
        "# SETTING THE PARAMETER FOR THE DATASET, WE WILL NOT USE THE ENTIRE WORDS."
      ]
    },
    {
      "cell_type": "code",
      "metadata": {
        "id": "MRCLN6EvyY1w"
      },
      "source": [
        "number_of_words=20000\n",
        "\n",
        "max_len=100                              # Sentence cannot have more than 100 words."
      ],
      "execution_count": 3,
      "outputs": []
    },
    {
      "cell_type": "markdown",
      "metadata": {
        "id": "_8GlwcvPy6ey"
      },
      "source": [
        "# LOADING AND SPLITTING THE DATASET"
      ]
    },
    {
      "cell_type": "code",
      "metadata": {
        "colab": {
          "base_uri": "https://localhost:8080/"
        },
        "id": "yeOa-nfKy5Ia",
        "outputId": "ef753025-9bef-4c60-d9e0-c710d5041f96"
      },
      "source": [
        "(x_train,y_train),(x_test,y_test) = imdb.load_data(num_words=number_of_words)             # It will use only 20000 words"
      ],
      "execution_count": 4,
      "outputs": [
        {
          "output_type": "stream",
          "name": "stdout",
          "text": [
            "Downloading data from https://storage.googleapis.com/tensorflow/tf-keras-datasets/imdb.npz\n",
            "17465344/17464789 [==============================] - 0s 0us/step\n",
            "17473536/17464789 [==============================] - 0s 0us/step\n"
          ]
        }
      ]
    },
    {
      "cell_type": "markdown",
      "metadata": {
        "id": "3INaObbZzVS8"
      },
      "source": [
        "# PADDING THE SENTENCE OR SEQUENCE TO SAME LENGTH"
      ]
    },
    {
      "cell_type": "code",
      "metadata": {
        "id": "-66nQtarzRUK"
      },
      "source": [
        "x_train=tf.keras.preprocessing.sequence.pad_sequences(x_train, maxlen=max_len)"
      ],
      "execution_count": 5,
      "outputs": []
    },
    {
      "cell_type": "code",
      "metadata": {
        "id": "10BszeWn1IV7"
      },
      "source": [
        "x_test=tf.keras.preprocessing.sequence.pad_sequences(x_test, maxlen=max_len)"
      ],
      "execution_count": 7,
      "outputs": []
    },
    {
      "cell_type": "markdown",
      "metadata": {
        "id": "uWtzFL8g1cda"
      },
      "source": [
        "# SETTING UP THE LAYERS\n"
      ]
    },
    {
      "cell_type": "code",
      "metadata": {
        "colab": {
          "base_uri": "https://localhost:8080/"
        },
        "id": "OiScK9Uc1QZL",
        "outputId": "ed5b584a-c681-4d17-905f-7e276ec6cc31"
      },
      "source": [
        "vocab_size=number_of_words\n",
        "\n",
        "vocab_size"
      ],
      "execution_count": 8,
      "outputs": [
        {
          "output_type": "execute_result",
          "data": {
            "text/plain": [
              "20000"
            ]
          },
          "metadata": {},
          "execution_count": 8
        }
      ]
    },
    {
      "cell_type": "code",
      "metadata": {
        "id": "WETZhCO71jlZ"
      },
      "source": [
        "embed_size=128"
      ],
      "execution_count": 9,
      "outputs": []
    },
    {
      "cell_type": "markdown",
      "metadata": {
        "id": "Du1IIXTV1n_k"
      },
      "source": [
        "# DEFINING THE MODEL"
      ]
    },
    {
      "cell_type": "code",
      "metadata": {
        "id": "gUXoqBX41mzB"
      },
      "source": [
        "model=tf.keras.Sequential()"
      ],
      "execution_count": 10,
      "outputs": []
    },
    {
      "cell_type": "code",
      "metadata": {
        "id": "8YIPumwV1s0W"
      },
      "source": [
        "model.add(tf.keras.layers.Embedding(vocab_size, embed_size, input_shape=(x_train.shape[1],)))"
      ],
      "execution_count": 11,
      "outputs": []
    },
    {
      "cell_type": "markdown",
      "metadata": {
        "id": "Vj3BoK841_my"
      },
      "source": [
        "# EACH AND EVERY CELL OF RNN HAS LIMITED MEMORY, SO USING LSTM"
      ]
    },
    {
      "cell_type": "code",
      "metadata": {
        "id": "agENBcSN2JHI"
      },
      "source": [
        "model.add(tf.keras.layers.LSTM(units=128, activation='tanh'))"
      ],
      "execution_count": 12,
      "outputs": []
    },
    {
      "cell_type": "markdown",
      "metadata": {
        "id": "WUjTXmO42Sop"
      },
      "source": [
        "# ADDING THE OUTPUT LAYER"
      ]
    },
    {
      "cell_type": "code",
      "metadata": {
        "id": "Z4WdzV-G2Rmx"
      },
      "source": [
        "model.add(tf.keras.layers.Dense(units=1, activation='sigmoid'))"
      ],
      "execution_count": 13,
      "outputs": []
    },
    {
      "cell_type": "markdown",
      "metadata": {
        "id": "vBmAaaDi2trY"
      },
      "source": [
        "# COMPILING THE MODEL"
      ]
    },
    {
      "cell_type": "code",
      "metadata": {
        "id": "bKUSN2z42riQ"
      },
      "source": [
        "model.compile(optimizer='AdaGrad', loss='binary_crossentropy', metrics=['accuracy'])\n"
      ],
      "execution_count": 15,
      "outputs": []
    },
    {
      "cell_type": "code",
      "metadata": {
        "colab": {
          "base_uri": "https://localhost:8080/"
        },
        "id": "VzHq-Eie3JTb",
        "outputId": "6d179ed9-ac01-4e7b-b7b9-4d3fe2997d94"
      },
      "source": [
        "model.summary()"
      ],
      "execution_count": 16,
      "outputs": [
        {
          "output_type": "stream",
          "name": "stdout",
          "text": [
            "Model: \"sequential\"\n",
            "_________________________________________________________________\n",
            " Layer (type)                Output Shape              Param #   \n",
            "=================================================================\n",
            " embedding (Embedding)       (None, 100, 128)          2560000   \n",
            "                                                                 \n",
            " lstm (LSTM)                 (None, 128)               131584    \n",
            "                                                                 \n",
            " dense (Dense)               (None, 1)                 129       \n",
            "                                                                 \n",
            "=================================================================\n",
            "Total params: 2,691,713\n",
            "Trainable params: 2,691,713\n",
            "Non-trainable params: 0\n",
            "_________________________________________________________________\n"
          ]
        }
      ]
    },
    {
      "cell_type": "markdown",
      "metadata": {
        "id": "96CuJYyD3MD0"
      },
      "source": [
        "# TRAINING THE MODEL"
      ]
    },
    {
      "cell_type": "code",
      "metadata": {
        "colab": {
          "base_uri": "https://localhost:8080/"
        },
        "id": "mu2QGPHR3K-i",
        "outputId": "0e1fb310-4589-490e-fe15-7800d0c24b35"
      },
      "source": [
        "model.fit(x_train,y_train, epochs=6, batch_size=128)"
      ],
      "execution_count": 18,
      "outputs": [
        {
          "output_type": "stream",
          "name": "stdout",
          "text": [
            "Epoch 1/6\n",
            "196/196 [==============================] - 78s 398ms/step - loss: 0.6932 - accuracy: 0.4896\n",
            "Epoch 2/6\n",
            "196/196 [==============================] - 79s 404ms/step - loss: 0.6932 - accuracy: 0.4937\n",
            "Epoch 3/6\n",
            "196/196 [==============================] - 79s 402ms/step - loss: 0.6932 - accuracy: 0.4958\n",
            "Epoch 4/6\n",
            "196/196 [==============================] - 77s 395ms/step - loss: 0.6932 - accuracy: 0.4968\n",
            "Epoch 5/6\n",
            "196/196 [==============================] - 78s 399ms/step - loss: 0.6931 - accuracy: 0.4984\n",
            "Epoch 6/6\n",
            "196/196 [==============================] - 80s 410ms/step - loss: 0.6931 - accuracy: 0.5018\n"
          ]
        },
        {
          "output_type": "execute_result",
          "data": {
            "text/plain": [
              "<keras.callbacks.History at 0x7f3d6094ec50>"
            ]
          },
          "metadata": {},
          "execution_count": 18
        }
      ]
    },
    {
      "cell_type": "code",
      "metadata": {
        "id": "OcfEDYYU3TkC"
      },
      "source": [
        ""
      ],
      "execution_count": null,
      "outputs": []
    }
  ]
}
