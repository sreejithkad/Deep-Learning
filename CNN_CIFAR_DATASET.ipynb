{
  "nbformat": 4,
  "nbformat_minor": 0,
  "metadata": {
    "colab": {
      "name": "CNN_CIFAR DATASET.ipynb",
      "provenance": [],
      "collapsed_sections": []
    },
    "kernelspec": {
      "name": "python3",
      "display_name": "Python 3"
    },
    "language_info": {
      "name": "python"
    }
  },
  "cells": [
    {
      "cell_type": "markdown",
      "metadata": {
        "id": "4Y6HH5F8Kt1s"
      },
      "source": [
        "# CNN (CONVOLUTIONAL NEURAL NETWORK) ON CIFAR 10 DATASET"
      ]
    },
    {
      "cell_type": "markdown",
      "metadata": {
        "id": "dcUAMoEzFxFZ"
      },
      "source": [
        "# IMPORTING THE DEPENDENCIES"
      ]
    },
    {
      "cell_type": "code",
      "metadata": {
        "id": "YVM1yAPj-7dn"
      },
      "source": [
        "import tensorflow as tf"
      ],
      "execution_count": 2,
      "outputs": []
    },
    {
      "cell_type": "markdown",
      "metadata": {
        "id": "b3oqyUk2F5QM"
      },
      "source": [
        "# IMPORTING THE CIFAR 10 DATASET"
      ]
    },
    {
      "cell_type": "code",
      "metadata": {
        "id": "msKwmP_H_Uwy"
      },
      "source": [
        "from tensorflow.keras.datasets import cifar10"
      ],
      "execution_count": 3,
      "outputs": []
    },
    {
      "cell_type": "markdown",
      "metadata": {
        "id": "EtUSh2IPGAWR"
      },
      "source": [
        "# MENTION THE CLASS NAMES MANUALLY"
      ]
    },
    {
      "cell_type": "code",
      "metadata": {
        "id": "luDB6tFA_axN"
      },
      "source": [
        "class_names=['airplane','automobile','bird','cat','deer','dog','frog','horse','ship','truck']"
      ],
      "execution_count": 4,
      "outputs": []
    },
    {
      "cell_type": "markdown",
      "metadata": {
        "id": "lxweHM5PGJmE"
      },
      "source": [
        "# LOADING THE CIFAR DATA AND THEN SPLITTING THE LOADED DATA INTO TRAIN AND TEST"
      ]
    },
    {
      "cell_type": "code",
      "metadata": {
        "colab": {
          "base_uri": "https://localhost:8080/"
        },
        "id": "zO6tK-I8_7ZX",
        "outputId": "bfe15b08-642f-4608-efb3-894f8c51e7d5"
      },
      "source": [
        "(x_train, y_train),(x_test, y_test) = cifar10.load_data()"
      ],
      "execution_count": 7,
      "outputs": [
        {
          "output_type": "stream",
          "name": "stdout",
          "text": [
            "Downloading data from https://www.cs.toronto.edu/~kriz/cifar-10-python.tar.gz\n",
            "170500096/170498071 [==============================] - 2s 0us/step\n",
            "170508288/170498071 [==============================] - 2s 0us/step\n"
          ]
        }
      ]
    },
    {
      "cell_type": "markdown",
      "metadata": {
        "id": "cEybbqH2GUhL"
      },
      "source": [
        "# IMAGE NORMALIZATION"
      ]
    },
    {
      "cell_type": "code",
      "metadata": {
        "id": "ell4zN94AK-V"
      },
      "source": [
        "x_train=x_train/255.0"
      ],
      "execution_count": 8,
      "outputs": []
    },
    {
      "cell_type": "code",
      "metadata": {
        "colab": {
          "base_uri": "https://localhost:8080/"
        },
        "id": "XQzhKSE6AtkF",
        "outputId": "f9816bbf-eecc-402e-ae13-3a1533f9f07b"
      },
      "source": [
        "x_train.shape                     # 50000 IS THE NO OF IMAGES, 32, 32 IS THE SIZE OF THE MAGE AND 3 DENOTES (R, G, B)"
      ],
      "execution_count": 9,
      "outputs": [
        {
          "output_type": "execute_result",
          "data": {
            "text/plain": [
              "(50000, 32, 32, 3)"
            ]
          },
          "metadata": {},
          "execution_count": 9
        }
      ]
    },
    {
      "cell_type": "code",
      "metadata": {
        "id": "48ZwmZBXAvlF"
      },
      "source": [
        "x_test=x_test/255.0"
      ],
      "execution_count": 10,
      "outputs": []
    },
    {
      "cell_type": "code",
      "metadata": {
        "colab": {
          "base_uri": "https://localhost:8080/"
        },
        "id": "swwoqLXsA3Nd",
        "outputId": "2127023a-6042-434a-ff26-2709856ba250"
      },
      "source": [
        "x_test.shape"
      ],
      "execution_count": 11,
      "outputs": [
        {
          "output_type": "execute_result",
          "data": {
            "text/plain": [
              "(10000, 32, 32, 3)"
            ]
          },
          "metadata": {},
          "execution_count": 11
        }
      ]
    },
    {
      "cell_type": "code",
      "metadata": {
        "id": "e35vHX5fA5V0"
      },
      "source": [
        "import matplotlib.pyplot as plt\n",
        "%matplotlib inline"
      ],
      "execution_count": 15,
      "outputs": []
    },
    {
      "cell_type": "code",
      "metadata": {
        "colab": {
          "base_uri": "https://localhost:8080/",
          "height": 283
        },
        "id": "a_fKcHIABDn-",
        "outputId": "57f5f3ce-271a-4ab1-e462-278cb1e36c78"
      },
      "source": [
        "plt.imshow(x_test[10])                     # CODE TO DISPLAY THE IMAGE"
      ],
      "execution_count": 32,
      "outputs": [
        {
          "output_type": "execute_result",
          "data": {
            "text/plain": [
              "<matplotlib.image.AxesImage at 0x7f2695f58690>"
            ]
          },
          "metadata": {},
          "execution_count": 32
        },
        {
          "output_type": "display_data",
          "data": {
            "image/png": "[encoded data removed]",
            "text/plain": [
              "<Figure size 432x288 with 1 Axes>"
            ]
          },
          "metadata": {
            "needs_background": "light"
          }
        }
      ]
    },
    {
      "cell_type": "code",
      "metadata": {
        "colab": {
          "base_uri": "https://localhost:8080/",
          "height": 283
        },
        "id": "b8SESs04BL6E",
        "outputId": "95a80b42-f8e1-45af-9e15-86fc6e16944a"
      },
      "source": [
        "plt.imshow(x_test[15])"
      ],
      "execution_count": 17,
      "outputs": [
        {
          "output_type": "execute_result",
          "data": {
            "text/plain": [
              "<matplotlib.image.AxesImage at 0x7f269dc1abd0>"
            ]
          },
          "metadata": {},
          "execution_count": 17
        },
        {
          "output_type": "display_data",
          "data": {
            "image/png": "[encoded data removed]",
            "text/plain": [
              "<Figure size 432x288 with 1 Axes>"
            ]
          },
          "metadata": {
            "needs_background": "light"
          }
        }
      ]
    },
    {
      "cell_type": "code",
      "metadata": {
        "colab": {
          "base_uri": "https://localhost:8080/",
          "height": 283
        },
        "id": "OqNmdeafBTkd",
        "outputId": "dec26e1d-2a97-400a-93a2-63196dcac85a"
      },
      "source": [
        "plt.imshow(x_test[20])"
      ],
      "execution_count": 19,
      "outputs": [
        {
          "output_type": "execute_result",
          "data": {
            "text/plain": [
              "<matplotlib.image.AxesImage at 0x7f269db55450>"
            ]
          },
          "metadata": {},
          "execution_count": 19
        },
        {
          "output_type": "display_data",
          "data": {
            "image/png": "[encoded data removed]",
            "text/plain": [
              "<Figure size 432x288 with 1 Axes>"
            ]
          },
          "metadata": {
            "needs_background": "light"
          }
        }
      ]
    },
    {
      "cell_type": "markdown",
      "metadata": {
        "id": "UP_eeuX9Gzln"
      },
      "source": [
        "# DEFINING THE MODEL"
      ]
    },
    {
      "cell_type": "code",
      "metadata": {
        "id": "W4pwKA0wBXoE"
      },
      "source": [
        "model=tf.keras.models.Sequential()"
      ],
      "execution_count": 20,
      "outputs": []
    },
    {
      "cell_type": "markdown",
      "metadata": {
        "id": "68nfS4o_G8EV"
      },
      "source": [
        "# ADDING THE FIRST CNN LAYER"
      ]
    },
    {
      "cell_type": "code",
      "metadata": {
        "id": "PUD2h-0eBkUV"
      },
      "source": [
        "model.add(tf.keras.layers.Conv2D(filters=32, kernel_size=3, padding='same',activation='relu',input_shape=[32,32,3]))"
      ],
      "execution_count": 21,
      "outputs": []
    },
    {
      "cell_type": "markdown",
      "metadata": {
        "id": "nqXIBp_9HBIt"
      },
      "source": [
        "# ADDING THE SECOND CNN LAYERS AND MAX POOLING LAYER"
      ]
    },
    {
      "cell_type": "code",
      "metadata": {
        "id": "zjqD0nunCM_8"
      },
      "source": [
        "model.add(tf.keras.layers.Conv2D(filters=32,kernel_size=3,padding='same',activation='relu'))\n",
        "\n",
        "model.add(tf.keras.layers.MaxPool2D(pool_size=2, strides=2,padding='valid'))"
      ],
      "execution_count": 23,
      "outputs": []
    },
    {
      "cell_type": "markdown",
      "metadata": {
        "id": "pGoH-kAlHHhp"
      },
      "source": [
        "# ADDING THE THIRD CNN LAYER"
      ]
    },
    {
      "cell_type": "code",
      "metadata": {
        "id": "8xpTRDBgCy6E"
      },
      "source": [
        "model.add(tf.keras.layers.Conv2D(filters=64,kernel_size=3,padding='same',activation='relu'))"
      ],
      "execution_count": 24,
      "outputs": []
    },
    {
      "cell_type": "markdown",
      "metadata": {
        "id": "9LLVAUMMHLOV"
      },
      "source": [
        "# ADDING THE FOURTH CNN LAYER AND MAX POOLING LAYER"
      ]
    },
    {
      "cell_type": "code",
      "metadata": {
        "id": "a_fsvjdKDHZD"
      },
      "source": [
        "model.add(tf.keras.layers.Conv2D(filters=64,kernel_size=3,padding='same',activation='relu'))\n",
        "\n",
        "model.add(tf.keras.layers.MaxPool2D(pool_size=2, strides=2,padding='valid'))"
      ],
      "execution_count": 25,
      "outputs": []
    },
    {
      "cell_type": "markdown",
      "metadata": {
        "id": "tt0TS3KBHZMU"
      },
      "source": [
        "# ADDING THE FLATTENING LAYER"
      ]
    },
    {
      "cell_type": "code",
      "metadata": {
        "id": "ddXBM8hbDen8"
      },
      "source": [
        "model.add(tf.keras.layers.Flatten())"
      ],
      "execution_count": 26,
      "outputs": []
    },
    {
      "cell_type": "markdown",
      "metadata": {
        "id": "im_MTHnsHuzZ"
      },
      "source": [
        "# ADDING THE FIRST DENSE LAYER, THEN HIDDEN LAYER AND THEN OUTPUT LAYER"
      ]
    },
    {
      "cell_type": "code",
      "metadata": {
        "id": "FSNAHqAwDkRL"
      },
      "source": [
        "model.add(tf.keras.layers.Dense(units=128,activation='relu'))"
      ],
      "execution_count": 27,
      "outputs": []
    },
    {
      "cell_type": "code",
      "metadata": {
        "id": "kEDc2yk3DvFC"
      },
      "source": [
        "model.add(tf.keras.layers.Dense(units=10,activation='softmax'))"
      ],
      "execution_count": 28,
      "outputs": []
    },
    {
      "cell_type": "code",
      "metadata": {
        "colab": {
          "base_uri": "https://localhost:8080/"
        },
        "id": "NMIOmqvWD15r",
        "outputId": "af8bbc17-6a5f-4171-a743-9aa3b827bf80"
      },
      "source": [
        "model.summary()"
      ],
      "execution_count": 29,
      "outputs": [
        {
          "output_type": "stream",
          "name": "stdout",
          "text": [
            "Model: \"sequential\"\n",
            "_________________________________________________________________\n",
            "Layer (type)                 Output Shape              Param #   \n",
            "=================================================================\n",
            "conv2d (Conv2D)              (None, 32, 32, 32)        896       \n",
            "_________________________________________________________________\n",
            "conv2d_1 (Conv2D)            (None, 32, 32, 32)        9248      \n",
            "_________________________________________________________________\n",
            "max_pooling2d (MaxPooling2D) (None, 16, 16, 32)        0         \n",
            "_________________________________________________________________\n",
            "conv2d_2 (Conv2D)            (None, 16, 16, 64)        18496     \n",
            "_________________________________________________________________\n",
            "conv2d_3 (Conv2D)            (None, 16, 16, 64)        36928     \n",
            "_________________________________________________________________\n",
            "max_pooling2d_1 (MaxPooling2 (None, 8, 8, 64)          0         \n",
            "_________________________________________________________________\n",
            "flatten (Flatten)            (None, 4096)              0         \n",
            "_________________________________________________________________\n",
            "dense (Dense)                (None, 128)               524416    \n",
            "_________________________________________________________________\n",
            "dense_1 (Dense)              (None, 10)                1290      \n",
            "=================================================================\n",
            "Total params: 591,274\n",
            "Trainable params: 591,274\n",
            "Non-trainable params: 0\n",
            "_________________________________________________________________\n"
          ]
        }
      ]
    },
    {
      "cell_type": "code",
      "metadata": {
        "id": "0D5WH3Q0D4FC"
      },
      "source": [
        "model.compile(loss='sparse_categorical_crossentropy', optimizer='Adagrad',metrics=['sparse_categorical_accuracy'])"
      ],
      "execution_count": 30,
      "outputs": []
    },
    {
      "cell_type": "markdown",
      "metadata": {
        "id": "Yb5y-PuRUx7L"
      },
      "source": [
        "# TRAINING THE MODEL"
      ]
    },
    {
      "cell_type": "code",
      "metadata": {
        "colab": {
          "base_uri": "https://localhost:8080/"
        },
        "id": "ZgdKtyRCEa4r",
        "outputId": "bf19500b-cd55-4b2e-b8f8-7106aad9984c"
      },
      "source": [
        "model.fit(x_train,y_train, epochs=6)"
      ],
      "execution_count": 31,
      "outputs": [
        {
          "output_type": "stream",
          "name": "stdout",
          "text": [
            "Epoch 1/6\n",
            "1563/1563 [==============================] - 236s 150ms/step - loss: 2.1795 - sparse_categorical_accuracy: 0.2094\n",
            "Epoch 2/6\n",
            "1563/1563 [==============================] - 238s 152ms/step - loss: 1.8954 - sparse_categorical_accuracy: 0.3291\n",
            "Epoch 3/6\n",
            "1563/1563 [==============================] - 238s 152ms/step - loss: 1.7725 - sparse_categorical_accuracy: 0.3744\n",
            "Epoch 4/6\n",
            "1563/1563 [==============================] - 237s 152ms/step - loss: 1.6630 - sparse_categorical_accuracy: 0.4155\n",
            "Epoch 5/6\n",
            "1563/1563 [==============================] - 237s 152ms/step - loss: 1.5832 - sparse_categorical_accuracy: 0.4432\n",
            "Epoch 6/6\n",
            "1563/1563 [==============================] - 237s 152ms/step - loss: 1.5272 - sparse_categorical_accuracy: 0.4618\n"
          ]
        },
        {
          "output_type": "execute_result",
          "data": {
            "text/plain": [
              "<keras.callbacks.History at 0x7f26996a0910>"
            ]
          },
          "metadata": {},
          "execution_count": 31
        }
      ]
    },
    {
      "cell_type": "markdown",
      "metadata": {
        "id": "7l1tj2fMVODA"
      },
      "source": [
        "# TESTING THE MODEL"
      ]
    },
    {
      "cell_type": "code",
      "metadata": {
        "colab": {
          "base_uri": "https://localhost:8080/"
        },
        "id": "IjoMLFP4EgG0",
        "outputId": "c7d984d3-df49-451e-b13e-ef2c3413d548"
      },
      "source": [
        "test_loss, test_accuracy=model.evaluate(x_test,y_test)"
      ],
      "execution_count": 33,
      "outputs": [
        {
          "output_type": "stream",
          "name": "stdout",
          "text": [
            "313/313 [==============================] - 11s 36ms/step - loss: 1.5020 - sparse_categorical_accuracy: 0.4673\n"
          ]
        }
      ]
    },
    {
      "cell_type": "code",
      "metadata": {
        "colab": {
          "base_uri": "https://localhost:8080/"
        },
        "id": "QEr1v6LOKGah",
        "outputId": "a026ab56-7073-4cac-b982-f0ced221b090"
      },
      "source": [
        "print(test_accuracy)"
      ],
      "execution_count": 34,
      "outputs": [
        {
          "output_type": "stream",
          "name": "stdout",
          "text": [
            "0.4672999978065491\n"
          ]
        }
      ]
    },
    {
      "cell_type": "markdown",
      "metadata": {
        "id": "oW0DfHOMKayR"
      },
      "source": [
        "# ACCURACY OF THE MODEL IS 46.72%"
      ]
    },
    {
      "cell_type": "code",
      "metadata": {
        "id": "sXbLNcmeKRuQ"
      },
      "source": [
        ""
      ],
      "execution_count": 35,
      "outputs": []
    }
  ]
}