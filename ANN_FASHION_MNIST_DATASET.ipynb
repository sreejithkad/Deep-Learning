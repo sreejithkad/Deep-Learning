{
  "nbformat": 4,
  "nbformat_minor": 0,
  "metadata": {
    "colab": {
      "name": "ANN_FASHION_MNIST_DATASET.ipynb",
      "provenance": [],
      "collapsed_sections": []
    },
    "kernelspec": {
      "name": "python3",
      "display_name": "Python 3"
    },
    "language_info": {
      "name": "python"
    }
  },
  "cells": [
    {
      "cell_type": "markdown",
      "metadata": {
        "id": "b_IPhftnX06t"
      },
      "source": [
        "# ANN (ARTIFICIAL NEURAL NETWORK) ON FASHION MNIST DATASET"
      ]
    },
    {
      "cell_type": "code",
      "metadata": {
        "id": "XYfJfxPWMlVD"
      },
      "source": [
        "import numpy as np\n",
        "\n",
        "import tensorflow as tf"
      ],
      "execution_count": 1,
      "outputs": []
    },
    {
      "cell_type": "markdown",
      "metadata": {
        "id": "UrUNUEn4YGqs"
      },
      "source": [
        "# VERSION OF TENSORFLOW"
      ]
    },
    {
      "cell_type": "code",
      "metadata": {
        "colab": {
          "base_uri": "https://localhost:8080/",
          "height": 35
        },
        "id": "--eIE1CDMyI7",
        "outputId": "ca61258f-46ce-47f5-9434-4a72cf9aa3d2"
      },
      "source": [
        "tf.__version__"
      ],
      "execution_count": 4,
      "outputs": [
        {
          "output_type": "execute_result",
          "data": {
            "application/vnd.google.colaboratory.intrinsic+json": {
              "type": "string"
            },
            "text/plain": [
              "'2.6.0'"
            ]
          },
          "metadata": {},
          "execution_count": 4
        }
      ]
    },
    {
      "cell_type": "markdown",
      "metadata": {
        "id": "BdQ-SG9DYKdS"
      },
      "source": [
        "# IMPORTING THE FASHION MNIST DATASET"
      ]
    },
    {
      "cell_type": "code",
      "metadata": {
        "id": "emI3k1KANZAo"
      },
      "source": [
        "from tensorflow.keras.datasets import fashion_mnist"
      ],
      "execution_count": 5,
      "outputs": []
    },
    {
      "cell_type": "markdown",
      "metadata": {
        "id": "vnWJ553aYTWW"
      },
      "source": [
        "# LOADING THE FASHION MNIST DATA AND THEN SPLITTING IT INTO TRAINING DATA AND TESTING DATA"
      ]
    },
    {
      "cell_type": "code",
      "metadata": {
        "id": "1Yu_gY30Nmim"
      },
      "source": [
        "(x_train,y_train),(x_test,y_test)=fashion_mnist.load_data()"
      ],
      "execution_count": 8,
      "outputs": []
    },
    {
      "cell_type": "code",
      "metadata": {
        "colab": {
          "base_uri": "https://localhost:8080/",
          "height": 282
        },
        "id": "x1P5fWKpOBWu",
        "outputId": "0b118587-cddf-4f36-c971-1629eccef3d9"
      },
      "source": [
        "import matplotlib.pyplot as plt\n",
        "\n",
        "plt.imshow(x_test[15])"
      ],
      "execution_count": 9,
      "outputs": [
        {
          "output_type": "execute_result",
          "data": {
            "text/plain": [
              "<matplotlib.image.AxesImage at 0x7f817f87a950>"
            ]
          },
          "metadata": {},
          "execution_count": 9
        },
        {
          "output_type": "display_data",
          "data": {
            "image/png": "[encoded data removed]",
            "text/plain": [
              "<Figure size 432x288 with 1 Axes>"
            ]
          },
          "metadata": {
            "needs_background": "light"
          }
        }
      ]
    },
    {
      "cell_type": "code",
      "metadata": {
        "colab": {
          "base_uri": "https://localhost:8080/",
          "height": 282
        },
        "id": "uiESimxeOWNe",
        "outputId": "bbe2b142-4e35-4325-8b85-4e836af2c024"
      },
      "source": [
        "plt.imshow(x_test[25])"
      ],
      "execution_count": 10,
      "outputs": [
        {
          "output_type": "execute_result",
          "data": {
            "text/plain": [
              "<matplotlib.image.AxesImage at 0x7f817f27c950>"
            ]
          },
          "metadata": {},
          "execution_count": 10
        },
        {
          "output_type": "display_data",
          "data": {
            "image/png": "[encoded data removed]",
            "text/plain": [
              "<Figure size 432x288 with 1 Axes>"
            ]
          },
          "metadata": {
            "needs_background": "light"
          }
        }
      ]
    },
    {
      "cell_type": "code",
      "metadata": {
        "colab": {
          "base_uri": "https://localhost:8080/",
          "height": 282
        },
        "id": "R5DuQlomOpiH",
        "outputId": "11b996c1-c50a-4ad3-94ee-4732995ca157"
      },
      "source": [
        "plt.imshow(x_test[10])"
      ],
      "execution_count": 12,
      "outputs": [
        {
          "output_type": "execute_result",
          "data": {
            "text/plain": [
              "<matplotlib.image.AxesImage at 0x7f817e91b690>"
            ]
          },
          "metadata": {},
          "execution_count": 12
        },
        {
          "output_type": "display_data",
          "data": {
            "image/png": "[encoded data removed]",
            "text/plain": [
              "<Figure size 432x288 with 1 Axes>"
            ]
          },
          "metadata": {
            "needs_background": "light"
          }
        }
      ]
    },
    {
      "cell_type": "markdown",
      "metadata": {
        "id": "zsVxKd5RYpAb"
      },
      "source": [
        "# NORMALIZATION OF IMAGE"
      ]
    },
    {
      "cell_type": "code",
      "metadata": {
        "id": "E9vliheDOuSm"
      },
      "source": [
        "x_train=x_train/255.0\n",
        "\n",
        "x_test=x_test/255.0"
      ],
      "execution_count": 13,
      "outputs": []
    },
    {
      "cell_type": "code",
      "metadata": {
        "id": "KXXzh5sLO-xm"
      },
      "source": [
        "x_train=x_train.reshape(-1,28*28)          # 28*28 IS THE SIZE OF THE IMAGE, -1 DENOTES ALL THE IMAGE"
      ],
      "execution_count": 14,
      "outputs": []
    },
    {
      "cell_type": "code",
      "metadata": {
        "colab": {
          "base_uri": "https://localhost:8080/"
        },
        "id": "vP5T0iaOPKE_",
        "outputId": "28e9c70c-8c78-4b2b-f7a0-34b803900695"
      },
      "source": [
        "x_train.shape                          # 60000 IS THE NUMBER OF IMAGES"
      ],
      "execution_count": 15,
      "outputs": [
        {
          "output_type": "execute_result",
          "data": {
            "text/plain": [
              "(60000, 784)"
            ]
          },
          "metadata": {},
          "execution_count": 15
        }
      ]
    },
    {
      "cell_type": "code",
      "metadata": {
        "id": "p9IsT9HnPO4G"
      },
      "source": [
        "x_test=x_test.reshape(-1,28*28)\n",
        "\n"
      ],
      "execution_count": 16,
      "outputs": []
    },
    {
      "cell_type": "code",
      "metadata": {
        "colab": {
          "base_uri": "https://localhost:8080/"
        },
        "id": "bX0T10qnPZf-",
        "outputId": "2550fc3f-5cc5-485a-e9ca-cdfcc2c56923"
      },
      "source": [
        "x_test.shape"
      ],
      "execution_count": 17,
      "outputs": [
        {
          "output_type": "execute_result",
          "data": {
            "text/plain": [
              "(10000, 784)"
            ]
          },
          "metadata": {},
          "execution_count": 17
        }
      ]
    },
    {
      "cell_type": "markdown",
      "metadata": {
        "id": "OXjwscS3ZJiC"
      },
      "source": [
        "# DEFINING THE MODEL AND IT IS A SEQUENTIAL MODEL."
      ]
    },
    {
      "cell_type": "code",
      "metadata": {
        "id": "SU5fJ1XcPbIN"
      },
      "source": [
        "model=tf.keras.models.Sequential()"
      ],
      "execution_count": 18,
      "outputs": []
    },
    {
      "cell_type": "markdown",
      "metadata": {
        "id": "oM5fvscaZVCD"
      },
      "source": [
        "# ADDING THE FIRST LAYER OF NEURAL NETWORK."
      ]
    },
    {
      "cell_type": "code",
      "metadata": {
        "id": "-Q6GKlPzPib-"
      },
      "source": [
        "model.add(tf.keras.layers.Dense(units=128,activation='relu', input_shape=(784,)))"
      ],
      "execution_count": 21,
      "outputs": []
    },
    {
      "cell_type": "markdown",
      "metadata": {
        "id": "MCEesJ80Zd_e"
      },
      "source": [
        "# ADDING THE SECOND LAYER OR THE HIDDEN LAYER IN NEURAL NETWORK."
      ]
    },
    {
      "cell_type": "code",
      "metadata": {
        "id": "vJ5gUjz-P6Xo"
      },
      "source": [
        "model.add(tf.keras.layers.Dense(units=10,activation='softmax'))"
      ],
      "execution_count": 22,
      "outputs": []
    },
    {
      "cell_type": "markdown",
      "metadata": {
        "id": "VXWSlaDmZk-k"
      },
      "source": [
        "# ADDING THE LAST LAYER OR COMPILING THE MODEL."
      ]
    },
    {
      "cell_type": "code",
      "metadata": {
        "id": "UsT1KGpkQUtU"
      },
      "source": [
        "model.compile(optimizer='Adagrad',loss='sparse_categorical_crossentropy',metrics='sparse_categorical_crossentropy')"
      ],
      "execution_count": 23,
      "outputs": []
    },
    {
      "cell_type": "code",
      "metadata": {
        "colab": {
          "base_uri": "https://localhost:8080/"
        },
        "id": "un2kvlCbWqR6",
        "outputId": "90251065-a323-4830-ec44-80b3fd00d0dd"
      },
      "source": [
        "model.summary()"
      ],
      "execution_count": 24,
      "outputs": [
        {
          "output_type": "stream",
          "name": "stdout",
          "text": [
            "Model: \"sequential\"\n",
            "_________________________________________________________________\n",
            "Layer (type)                 Output Shape              Param #   \n",
            "=================================================================\n",
            "dense_2 (Dense)              (None, 128)               100480    \n",
            "_________________________________________________________________\n",
            "dense_3 (Dense)              (None, 10)                1290      \n",
            "=================================================================\n",
            "Total params: 101,770\n",
            "Trainable params: 101,770\n",
            "Non-trainable params: 0\n",
            "_________________________________________________________________\n"
          ]
        }
      ]
    },
    {
      "cell_type": "markdown",
      "metadata": {
        "id": "TdBrJYU_Ztbc"
      },
      "source": [
        "# TRAINING THE MODEL."
      ]
    },
    {
      "cell_type": "code",
      "metadata": {
        "colab": {
          "base_uri": "https://localhost:8080/"
        },
        "id": "Hd_jYrXdWr_5",
        "outputId": "317f377f-3b09-4fdd-fbe1-fc27f34f40a8"
      },
      "source": [
        "model.fit(x_train,y_train,epochs=5)"
      ],
      "execution_count": 25,
      "outputs": [
        {
          "output_type": "stream",
          "name": "stdout",
          "text": [
            "Epoch 1/5\n",
            "1875/1875 [==============================] - 5s 2ms/step - loss: 1.1103 - sparse_categorical_crossentropy: 1.1103\n",
            "Epoch 2/5\n",
            "1875/1875 [==============================] - 6s 3ms/step - loss: 0.7358 - sparse_categorical_crossentropy: 0.7358\n",
            "Epoch 3/5\n",
            "1875/1875 [==============================] - 4s 2ms/step - loss: 0.6571 - sparse_categorical_crossentropy: 0.6571\n",
            "Epoch 4/5\n",
            "1875/1875 [==============================] - 5s 3ms/step - loss: 0.6152 - sparse_categorical_crossentropy: 0.6152\n",
            "Epoch 5/5\n",
            "1875/1875 [==============================] - 4s 2ms/step - loss: 0.5875 - sparse_categorical_crossentropy: 0.5875\n"
          ]
        },
        {
          "output_type": "execute_result",
          "data": {
            "text/plain": [
              "<keras.callbacks.History at 0x7f817ad64710>"
            ]
          },
          "metadata": {},
          "execution_count": 25
        }
      ]
    },
    {
      "cell_type": "markdown",
      "metadata": {
        "id": "CKEFiwUaZ1VB"
      },
      "source": [
        "# TESTING THE MODEL."
      ]
    },
    {
      "cell_type": "code",
      "metadata": {
        "colab": {
          "base_uri": "https://localhost:8080/"
        },
        "id": "eoZFw02-W4mR",
        "outputId": "2ca96eed-cfcc-437c-a9da-a7e1c25c600d"
      },
      "source": [
        "test_loss,test_accuracy=model.evaluate(x_test,y_test)\n"
      ],
      "execution_count": 27,
      "outputs": [
        {
          "output_type": "stream",
          "name": "stdout",
          "text": [
            "313/313 [==============================] - 1s 2ms/step - loss: 0.5976 - sparse_categorical_crossentropy: 0.5976\n"
          ]
        }
      ]
    },
    {
      "cell_type": "code",
      "metadata": {
        "colab": {
          "base_uri": "https://localhost:8080/"
        },
        "id": "j4-kr1n5XLbA",
        "outputId": "64597abf-8ffb-42de-8963-e91fd293cdd0"
      },
      "source": [
        "print(test_accuracy)"
      ],
      "execution_count": 28,
      "outputs": [
        {
          "output_type": "stream",
          "name": "stdout",
          "text": [
            "0.5975562930107117\n"
          ]
        }
      ]
    },
    {
      "cell_type": "markdown",
      "metadata": {
        "id": "hIU2y7zNaIkY"
      },
      "source": [
        "# ACCURACY OF THE MODEL IS 59.75%"
      ]
    },
    {
      "cell_type": "code",
      "metadata": {
        "id": "peb_vRNQXSY4"
      },
      "source": [
        ""
      ],
      "execution_count": null,
      "outputs": []
    }
  ]
}